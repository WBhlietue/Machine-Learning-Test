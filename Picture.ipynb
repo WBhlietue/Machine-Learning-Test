{
 "cells": [
  {
   "cell_type": "code",
   "execution_count": null,
   "metadata": {},
   "outputs": [],
   "source": [
    "import TTest as main\n",
    "import numpy as np\n",
    "import Picture.calculateW as calc\n",
    "\n",
    "data = main.ReadData(10000)\n",
    "def GetRealY(index):\n",
    "    list = []\n",
    "    for i in data[1]:\n",
    "        list.append(i[index])\n",
    "    list = np.array(list)\n",
    "    return list\n",
    "\n",
    "\n",
    "x = np.array(data[0])\n",
    "z = calc.GetYProd(np.array(data[0]), np.array([1] * len(data[0][0])), 1)\n"
   ]
  },
  {
   "cell_type": "code",
   "execution_count": null,
   "metadata": {},
   "outputs": [],
   "source": [
    "def GradientNew(x, y, w, b):\n",
    "  yCalc = calc.GetYProd(x, w, b)\n",
    "  bG = (yCalc - y).mean()\n",
    "  wG = np.zeros(x.shape[1])\n",
    "  for i in range(x.shape[1]):\n",
    "    wG[i] = (x[:, i] * (yCalc - y)).mean()\n",
    "  return wG, bG\n",
    "\n",
    "def GradientRunNew(x, maxNum, learningRate, col):\n",
    "  y = GetRealY(col)\n",
    "  initW = np.array([0.0] * len(data[0][0]))\n",
    "  initB = 0\n",
    "  costBack = -1\n",
    "  for i in range(maxNum):\n",
    "    stepW, stepB = GradientNew(x, y, np.array([1] * len(data[0][0])), initB)\n",
    "    initW -= learningRate * stepW\n",
    "    initB -= learningRate * stepB\n",
    "    yCalc = calc.GetYProd(x, initW, initB)\n",
    "    cost = calc.CalcDistance(y, yCalc)\n",
    "    if(i % 100 == 0):\n",
    "      print(f\"Running, {i/maxNum * 100:.2f}%, cost: {cost}\")\n",
    "    if(costBack < 0 or costBack > cost):\n",
    "      costBack = cost\n",
    "    elif(costBack <= cost):\n",
    "      print(\"over\")\n",
    "      return initW + learningRate * stepW, initB + learningRate * stepB\n",
    "\n",
    "  return initW, initB\n",
    "\n"
   ]
  },
  {
   "cell_type": "code",
   "execution_count": null,
   "metadata": {},
   "outputs": [],
   "source": [
    "def GradientRunNew(x, maxNum, learningRateNum, col):\n",
    "  learningRate = 1\n",
    "  y = GetRealY(col)\n",
    "  initW = np.array([0.0] * len(data[0][0]))\n",
    "  initB = 0\n",
    "  costBack = -1\n",
    "  for i in range(maxNum):\n",
    "    stepW, stepB = GradientNew(x, y, np.array([1] * len(data[0][0])), initB)\n",
    "    initW -= learningRate * stepW\n",
    "    initB -= learningRate * stepB\n",
    "    yCalc = calc.GetYProd(x, initW, initB)\n",
    "    cost = calc.CalcDistance(y, yCalc)\n",
    "    if(i % 100 == 0):\n",
    "      print(f\"Running, {i/maxNum * 100:.2f}%, cost: {cost}\")\n",
    "    if(costBack < 0 or costBack > cost):\n",
    "      costBack = cost\n",
    "    elif(costBack <= cost):\n",
    "      print(\"reverse\")\n",
    "      print(f\"Running, {i/maxNum * 100:.2f}%, cost: {cost}\")\n",
    "      learningRate /= 10\n",
    "      learningRateNum -= 1\n",
    "      if(learningRateNum == 0):\n",
    "        print(cost)\n",
    "        print(\"over\")\n",
    "        return initW , initB \n",
    "\n",
    "  return initW, initB\n"
   ]
  },
  {
   "cell_type": "code",
   "execution_count": null,
   "metadata": {},
   "outputs": [],
   "source": [
    "w = []\n",
    "b = []\n",
    "for i in range(10):\n",
    "    print(f\"run {i}\")\n",
    "    w1, b1 = GradientRunNew(x, 10000, 10, i)\n",
    "    w.append(np.array(w1))\n",
    "    b.append(np.array(b1))"
   ]
  },
  {
   "cell_type": "code",
   "execution_count": null,
   "metadata": {},
   "outputs": [],
   "source": [
    "from keras.datasets import mnist\n",
    "import Picture.convertToData as convert\n",
    "import Picture.pictureToPixel as toPix\n",
    "import matplotlib.pyplot as plt\n",
    "import Picture.calculateW as calc\n",
    "import numpy as np\n",
    "from keras.utils import to_categorical\n",
    "def GetCurrentImage(num, index):\n",
    "    (trainImage, trainLabel), (testImage, testLabel) = mnist.load_data()\n",
    "    trainLabel = to_categorical(trainLabel)\n",
    "    pixel = trainImage[num]\n",
    "    pixel = convert.PixelNormalize(pixel)\n",
    "    pixel = convert.ToPooling([pixel, pixel, pixel], 26)\n",
    "    line = np.array(convert.ToLine(pixel[0]))\n",
    "    return pixel, line, trainLabel[num][index]\n",
    "\n",
    "def CheckAcc(line, ans, w, b):\n",
    "    x = (line * w).sum() + b\n",
    "    return x "
   ]
  },
  {
   "cell_type": "code",
   "execution_count": 24,
   "metadata": {},
   "outputs": [
    {
     "name": "stdout",
     "output_type": "stream",
     "text": [
      "List of 8 result is [9 5 2 0 3 8 6 1 4 7]\n",
      "List of 4 result is [2 5 9 0 3 8 6 1 7 4]\n",
      "List of 4 result is [0 2 5 8 9 3 6 1 4 7]\n",
      "List of 2 result is [9 5 8 0 3 2 6 1 7 4]\n",
      "List of 3 result is [0 2 5 9 8 3 6 1 4 7]\n",
      "List of 2 result is [9 5 8 0 2 3 6 1 4 7]\n",
      "List of 3 result is [9 5 0 8 2 3 6 4 1 7]\n",
      "List of 8 result is [9 2 5 0 8 3 6 1 4 7]\n",
      "List of 2 result is [9 5 2 0 8 3 6 1 7 4]\n",
      "List of 0 result is [9 5 2 8 0 3 6 1 4 7]\n",
      "List of 5 result is [9 5 2 0 8 3 6 4 7 1]\n",
      "List of 0 result is [9 2 5 8 0 3 6 1 4 7]\n",
      "List of 0 result is [9 5 8 2 3 0 6 1 4 7]\n",
      "List of 1 result is [9 2 5 0 8 3 6 7 1 4]\n",
      "List of 0 result is [9 5 2 8 0 3 6 1 4 7]\n",
      "List of 2 result is [9 5 8 0 3 2 6 1 4 7]\n",
      "List of 1 result is [9 5 0 2 8 3 6 4 7 1]\n",
      "List of 3 result is [9 5 2 0 8 3 6 1 4 7]\n",
      "List of 3 result is [9 5 2 0 8 3 6 1 4 7]\n",
      "List of 4 result is [0 2 5 9 8 3 6 1 7 4]\n",
      "List of 7 result is [2 5 0 8 3 9 6 1 4 7]\n"
     ]
    },
    {
     "ename": "KeyboardInterrupt",
     "evalue": "",
     "output_type": "error",
     "traceback": [
      "\u001b[1;31m---------------------------------------------------------------------------\u001b[0m",
      "\u001b[1;31mKeyboardInterrupt\u001b[0m                         Traceback (most recent call last)",
      "Cell \u001b[1;32mIn[24], line 14\u001b[0m\n\u001b[0;32m     12\u001b[0m \u001b[38;5;28mlist\u001b[39m \u001b[38;5;241m=\u001b[39m []\n\u001b[0;32m     13\u001b[0m \u001b[38;5;28;01mfor\u001b[39;00m j \u001b[38;5;129;01min\u001b[39;00m \u001b[38;5;28mrange\u001b[39m(\u001b[38;5;241m10\u001b[39m):\n\u001b[1;32m---> 14\u001b[0m     pixel, line, ans \u001b[38;5;241m=\u001b[39m \u001b[43mGetCurrentImage\u001b[49m\u001b[43m(\u001b[49m\u001b[43mi\u001b[49m\u001b[43m,\u001b[49m\u001b[43m \u001b[49m\u001b[43mj\u001b[49m\u001b[43m)\u001b[49m\n\u001b[0;32m     15\u001b[0m     per \u001b[38;5;241m=\u001b[39m (\u001b[38;5;28mint\u001b[39m)(CheckAcc(line, ans, w[j], b[j])\u001b[38;5;241m*\u001b[39m\u001b[38;5;241m100\u001b[39m)\u001b[38;5;241m/\u001b[39m\u001b[38;5;241m100\u001b[39m\n\u001b[0;32m     16\u001b[0m     \u001b[38;5;28mlist\u001b[39m\u001b[38;5;241m.\u001b[39mappend(per)\n",
      "Cell \u001b[1;32mIn[16], line 9\u001b[0m, in \u001b[0;36mGetCurrentImage\u001b[1;34m(num, index)\u001b[0m\n\u001b[0;32m      8\u001b[0m \u001b[38;5;28;01mdef\u001b[39;00m \u001b[38;5;21mGetCurrentImage\u001b[39m(num, index):\n\u001b[1;32m----> 9\u001b[0m     (trainImage, trainLabel), (testImage, testLabel) \u001b[38;5;241m=\u001b[39m \u001b[43mmnist\u001b[49m\u001b[38;5;241;43m.\u001b[39;49m\u001b[43mload_data\u001b[49m\u001b[43m(\u001b[49m\u001b[43m)\u001b[49m\n\u001b[0;32m     10\u001b[0m     trainLabel \u001b[38;5;241m=\u001b[39m to_categorical(trainLabel)\n\u001b[0;32m     11\u001b[0m     pixel \u001b[38;5;241m=\u001b[39m trainImage[num]\n",
      "File \u001b[1;32mc:\\Haku\\Python\\Lib\\site-packages\\keras\\src\\datasets\\mnist.py:83\u001b[0m, in \u001b[0;36mload_data\u001b[1;34m(path)\u001b[0m\n\u001b[0;32m     75\u001b[0m path \u001b[38;5;241m=\u001b[39m get_file(\n\u001b[0;32m     76\u001b[0m     path,\n\u001b[0;32m     77\u001b[0m     origin\u001b[38;5;241m=\u001b[39morigin_folder \u001b[38;5;241m+\u001b[39m \u001b[38;5;124m\"\u001b[39m\u001b[38;5;124mmnist.npz\u001b[39m\u001b[38;5;124m\"\u001b[39m,\n\u001b[1;32m   (...)\u001b[0m\n\u001b[0;32m     80\u001b[0m     ),\n\u001b[0;32m     81\u001b[0m )\n\u001b[0;32m     82\u001b[0m \u001b[38;5;28;01mwith\u001b[39;00m np\u001b[38;5;241m.\u001b[39mload(path, allow_pickle\u001b[38;5;241m=\u001b[39m\u001b[38;5;28;01mTrue\u001b[39;00m) \u001b[38;5;28;01mas\u001b[39;00m f:\n\u001b[1;32m---> 83\u001b[0m     x_train, y_train \u001b[38;5;241m=\u001b[39m \u001b[43mf\u001b[49m\u001b[43m[\u001b[49m\u001b[38;5;124;43m\"\u001b[39;49m\u001b[38;5;124;43mx_train\u001b[39;49m\u001b[38;5;124;43m\"\u001b[39;49m\u001b[43m]\u001b[49m, f[\u001b[38;5;124m\"\u001b[39m\u001b[38;5;124my_train\u001b[39m\u001b[38;5;124m\"\u001b[39m]\n\u001b[0;32m     84\u001b[0m     x_test, y_test \u001b[38;5;241m=\u001b[39m f[\u001b[38;5;124m\"\u001b[39m\u001b[38;5;124mx_test\u001b[39m\u001b[38;5;124m\"\u001b[39m], f[\u001b[38;5;124m\"\u001b[39m\u001b[38;5;124my_test\u001b[39m\u001b[38;5;124m\"\u001b[39m]\n\u001b[0;32m     86\u001b[0m     \u001b[38;5;28;01mreturn\u001b[39;00m (x_train, y_train), (x_test, y_test)\n",
      "File \u001b[1;32mc:\\Haku\\Python\\Lib\\site-packages\\numpy\\lib\\npyio.py:256\u001b[0m, in \u001b[0;36mNpzFile.__getitem__\u001b[1;34m(self, key)\u001b[0m\n\u001b[0;32m    254\u001b[0m \u001b[38;5;28;01mif\u001b[39;00m magic \u001b[38;5;241m==\u001b[39m \u001b[38;5;28mformat\u001b[39m\u001b[38;5;241m.\u001b[39mMAGIC_PREFIX:\n\u001b[0;32m    255\u001b[0m     \u001b[38;5;28mbytes\u001b[39m \u001b[38;5;241m=\u001b[39m \u001b[38;5;28mself\u001b[39m\u001b[38;5;241m.\u001b[39mzip\u001b[38;5;241m.\u001b[39mopen(key)\n\u001b[1;32m--> 256\u001b[0m     \u001b[38;5;28;01mreturn\u001b[39;00m \u001b[38;5;28;43mformat\u001b[39;49m\u001b[38;5;241;43m.\u001b[39;49m\u001b[43mread_array\u001b[49m\u001b[43m(\u001b[49m\u001b[38;5;28;43mbytes\u001b[39;49m\u001b[43m,\u001b[49m\n\u001b[0;32m    257\u001b[0m \u001b[43m                             \u001b[49m\u001b[43mallow_pickle\u001b[49m\u001b[38;5;241;43m=\u001b[39;49m\u001b[38;5;28;43mself\u001b[39;49m\u001b[38;5;241;43m.\u001b[39;49m\u001b[43mallow_pickle\u001b[49m\u001b[43m,\u001b[49m\n\u001b[0;32m    258\u001b[0m \u001b[43m                             \u001b[49m\u001b[43mpickle_kwargs\u001b[49m\u001b[38;5;241;43m=\u001b[39;49m\u001b[38;5;28;43mself\u001b[39;49m\u001b[38;5;241;43m.\u001b[39;49m\u001b[43mpickle_kwargs\u001b[49m\u001b[43m,\u001b[49m\n\u001b[0;32m    259\u001b[0m \u001b[43m                             \u001b[49m\u001b[43mmax_header_size\u001b[49m\u001b[38;5;241;43m=\u001b[39;49m\u001b[38;5;28;43mself\u001b[39;49m\u001b[38;5;241;43m.\u001b[39;49m\u001b[43mmax_header_size\u001b[49m\u001b[43m)\u001b[49m\n\u001b[0;32m    260\u001b[0m \u001b[38;5;28;01melse\u001b[39;00m:\n\u001b[0;32m    261\u001b[0m     \u001b[38;5;28;01mreturn\u001b[39;00m \u001b[38;5;28mself\u001b[39m\u001b[38;5;241m.\u001b[39mzip\u001b[38;5;241m.\u001b[39mread(key)\n",
      "File \u001b[1;32mc:\\Haku\\Python\\Lib\\site-packages\\numpy\\lib\\format.py:831\u001b[0m, in \u001b[0;36mread_array\u001b[1;34m(fp, allow_pickle, pickle_kwargs, max_header_size)\u001b[0m\n\u001b[0;32m    829\u001b[0m             read_count \u001b[38;5;241m=\u001b[39m \u001b[38;5;28mmin\u001b[39m(max_read_count, count \u001b[38;5;241m-\u001b[39m i)\n\u001b[0;32m    830\u001b[0m             read_size \u001b[38;5;241m=\u001b[39m \u001b[38;5;28mint\u001b[39m(read_count \u001b[38;5;241m*\u001b[39m dtype\u001b[38;5;241m.\u001b[39mitemsize)\n\u001b[1;32m--> 831\u001b[0m             data \u001b[38;5;241m=\u001b[39m \u001b[43m_read_bytes\u001b[49m\u001b[43m(\u001b[49m\u001b[43mfp\u001b[49m\u001b[43m,\u001b[49m\u001b[43m \u001b[49m\u001b[43mread_size\u001b[49m\u001b[43m,\u001b[49m\u001b[43m \u001b[49m\u001b[38;5;124;43m\"\u001b[39;49m\u001b[38;5;124;43marray data\u001b[39;49m\u001b[38;5;124;43m\"\u001b[39;49m\u001b[43m)\u001b[49m\n\u001b[0;32m    832\u001b[0m             array[i:i\u001b[38;5;241m+\u001b[39mread_count] \u001b[38;5;241m=\u001b[39m numpy\u001b[38;5;241m.\u001b[39mfrombuffer(data, dtype\u001b[38;5;241m=\u001b[39mdtype,\n\u001b[0;32m    833\u001b[0m                                                      count\u001b[38;5;241m=\u001b[39mread_count)\n\u001b[0;32m    835\u001b[0m \u001b[38;5;28;01mif\u001b[39;00m fortran_order:\n",
      "File \u001b[1;32mc:\\Haku\\Python\\Lib\\site-packages\\numpy\\lib\\format.py:966\u001b[0m, in \u001b[0;36m_read_bytes\u001b[1;34m(fp, size, error_template)\u001b[0m\n\u001b[0;32m    961\u001b[0m \u001b[38;5;28;01mwhile\u001b[39;00m \u001b[38;5;28;01mTrue\u001b[39;00m:\n\u001b[0;32m    962\u001b[0m     \u001b[38;5;66;03m# io files (default in python3) return None or raise on\u001b[39;00m\n\u001b[0;32m    963\u001b[0m     \u001b[38;5;66;03m# would-block, python2 file will truncate, probably nothing can be\u001b[39;00m\n\u001b[0;32m    964\u001b[0m     \u001b[38;5;66;03m# done about that.  note that regular files can't be non-blocking\u001b[39;00m\n\u001b[0;32m    965\u001b[0m     \u001b[38;5;28;01mtry\u001b[39;00m:\n\u001b[1;32m--> 966\u001b[0m         r \u001b[38;5;241m=\u001b[39m \u001b[43mfp\u001b[49m\u001b[38;5;241;43m.\u001b[39;49m\u001b[43mread\u001b[49m\u001b[43m(\u001b[49m\u001b[43msize\u001b[49m\u001b[43m \u001b[49m\u001b[38;5;241;43m-\u001b[39;49m\u001b[43m \u001b[49m\u001b[38;5;28;43mlen\u001b[39;49m\u001b[43m(\u001b[49m\u001b[43mdata\u001b[49m\u001b[43m)\u001b[49m\u001b[43m)\u001b[49m\n\u001b[0;32m    967\u001b[0m         data \u001b[38;5;241m+\u001b[39m\u001b[38;5;241m=\u001b[39m r\n\u001b[0;32m    968\u001b[0m         \u001b[38;5;28;01mif\u001b[39;00m \u001b[38;5;28mlen\u001b[39m(r) \u001b[38;5;241m==\u001b[39m \u001b[38;5;241m0\u001b[39m \u001b[38;5;129;01mor\u001b[39;00m \u001b[38;5;28mlen\u001b[39m(data) \u001b[38;5;241m==\u001b[39m size:\n",
      "File \u001b[1;32mc:\\Haku\\Python\\Lib\\zipfile.py:955\u001b[0m, in \u001b[0;36mZipExtFile.read\u001b[1;34m(self, n)\u001b[0m\n\u001b[0;32m    953\u001b[0m \u001b[38;5;28mself\u001b[39m\u001b[38;5;241m.\u001b[39m_offset \u001b[38;5;241m=\u001b[39m \u001b[38;5;241m0\u001b[39m\n\u001b[0;32m    954\u001b[0m \u001b[38;5;28;01mwhile\u001b[39;00m n \u001b[38;5;241m>\u001b[39m \u001b[38;5;241m0\u001b[39m \u001b[38;5;129;01mand\u001b[39;00m \u001b[38;5;129;01mnot\u001b[39;00m \u001b[38;5;28mself\u001b[39m\u001b[38;5;241m.\u001b[39m_eof:\n\u001b[1;32m--> 955\u001b[0m     data \u001b[38;5;241m=\u001b[39m \u001b[38;5;28;43mself\u001b[39;49m\u001b[38;5;241;43m.\u001b[39;49m\u001b[43m_read1\u001b[49m\u001b[43m(\u001b[49m\u001b[43mn\u001b[49m\u001b[43m)\u001b[49m\n\u001b[0;32m    956\u001b[0m     \u001b[38;5;28;01mif\u001b[39;00m n \u001b[38;5;241m<\u001b[39m \u001b[38;5;28mlen\u001b[39m(data):\n\u001b[0;32m    957\u001b[0m         \u001b[38;5;28mself\u001b[39m\u001b[38;5;241m.\u001b[39m_readbuffer \u001b[38;5;241m=\u001b[39m data\n",
      "File \u001b[1;32mc:\\Haku\\Python\\Lib\\zipfile.py:1031\u001b[0m, in \u001b[0;36mZipExtFile._read1\u001b[1;34m(self, n)\u001b[0m\n\u001b[0;32m   1029\u001b[0m \u001b[38;5;28;01melif\u001b[39;00m \u001b[38;5;28mself\u001b[39m\u001b[38;5;241m.\u001b[39m_compress_type \u001b[38;5;241m==\u001b[39m ZIP_DEFLATED:\n\u001b[0;32m   1030\u001b[0m     n \u001b[38;5;241m=\u001b[39m \u001b[38;5;28mmax\u001b[39m(n, \u001b[38;5;28mself\u001b[39m\u001b[38;5;241m.\u001b[39mMIN_READ_SIZE)\n\u001b[1;32m-> 1031\u001b[0m     data \u001b[38;5;241m=\u001b[39m \u001b[38;5;28;43mself\u001b[39;49m\u001b[38;5;241;43m.\u001b[39;49m\u001b[43m_decompressor\u001b[49m\u001b[38;5;241;43m.\u001b[39;49m\u001b[43mdecompress\u001b[49m\u001b[43m(\u001b[49m\u001b[43mdata\u001b[49m\u001b[43m,\u001b[49m\u001b[43m \u001b[49m\u001b[43mn\u001b[49m\u001b[43m)\u001b[49m\n\u001b[0;32m   1032\u001b[0m     \u001b[38;5;28mself\u001b[39m\u001b[38;5;241m.\u001b[39m_eof \u001b[38;5;241m=\u001b[39m (\u001b[38;5;28mself\u001b[39m\u001b[38;5;241m.\u001b[39m_decompressor\u001b[38;5;241m.\u001b[39meof \u001b[38;5;129;01mor\u001b[39;00m\n\u001b[0;32m   1033\u001b[0m                  \u001b[38;5;28mself\u001b[39m\u001b[38;5;241m.\u001b[39m_compress_left \u001b[38;5;241m<\u001b[39m\u001b[38;5;241m=\u001b[39m \u001b[38;5;241m0\u001b[39m \u001b[38;5;129;01mand\u001b[39;00m\n\u001b[0;32m   1034\u001b[0m                  \u001b[38;5;129;01mnot\u001b[39;00m \u001b[38;5;28mself\u001b[39m\u001b[38;5;241m.\u001b[39m_decompressor\u001b[38;5;241m.\u001b[39munconsumed_tail)\n\u001b[0;32m   1035\u001b[0m     \u001b[38;5;28;01mif\u001b[39;00m \u001b[38;5;28mself\u001b[39m\u001b[38;5;241m.\u001b[39m_eof:\n",
      "\u001b[1;31mKeyboardInterrupt\u001b[0m: "
     ]
    }
   ],
   "source": [
    "w = np.array(w)\n",
    "wNew = w.mean(axis=0)\n",
    "b = np.array(b)\n",
    "bNew = b.mean()\n",
    "print(bNew)\n",
    "(trainImage, trainLabel), (testImage, testLabel) = mnist.load_data()\n",
    "trainLabel\n",
    "print(trainLabel)\n",
    "print(w)\n",
    "print(b)\n",
    "for i in range(2000, 2100):\n",
    "    list = []\n",
    "    for j in range(10):\n",
    "        pixel, line, ans = GetCurrentImage(i, j)\n",
    "        per = (int)(CheckAcc(line, ans, w[j], b[j])*100)/100\n",
    "        list.append(per)\n",
    "    sorted_indices = np.argsort(list)\n",
    "    print(f\"Num of: {numTotal}, List of {trainLabel[i]} result is {sorted_indices}\")"
   ]
  },
  {
   "cell_type": "code",
   "execution_count": null,
   "metadata": {},
   "outputs": [],
   "source": [
    "wa1, ba1 = GradientRunNew(x, 10000, 10, 0)"
   ]
  },
  {
   "cell_type": "code",
   "execution_count": null,
   "metadata": {},
   "outputs": [],
   "source": [
    "wa2, ba2 = GradientRunNew(x, 10000, 10, 1)"
   ]
  },
  {
   "cell_type": "code",
   "execution_count": null,
   "metadata": {},
   "outputs": [],
   "source": [
    "wa3, ba3 = GradientRunNew(x, 10000, 10, 2)"
   ]
  },
  {
   "cell_type": "code",
   "execution_count": null,
   "metadata": {},
   "outputs": [],
   "source": [
    "wa4, ba4 = GradientRunNew(x, 10000, 10, 3)"
   ]
  },
  {
   "cell_type": "code",
   "execution_count": null,
   "metadata": {},
   "outputs": [],
   "source": [
    "wa5, ba5 = GradientRunNew(x, 10000, 10, 4)"
   ]
  },
  {
   "cell_type": "code",
   "execution_count": null,
   "metadata": {},
   "outputs": [],
   "source": [
    "wa6, ba6 = GradientRunNew(x, 10000, 10, 5)"
   ]
  },
  {
   "cell_type": "code",
   "execution_count": null,
   "metadata": {},
   "outputs": [],
   "source": [
    "wa7, ba7 = GradientRunNew(x, 10000, 10, 6)"
   ]
  },
  {
   "cell_type": "code",
   "execution_count": null,
   "metadata": {},
   "outputs": [],
   "source": [
    "wa8, ba8 = GradientRunNew(x, 10000, 10, 7)"
   ]
  },
  {
   "cell_type": "code",
   "execution_count": null,
   "metadata": {},
   "outputs": [],
   "source": [
    "wa9, ba9 = GradientRunNew(x, 10000, 10, 8)"
   ]
  },
  {
   "cell_type": "code",
   "execution_count": null,
   "metadata": {},
   "outputs": [],
   "source": [
    "wa10, ba10 = GradientRunNew(x, 10000, 10, 9)"
   ]
  },
  {
   "cell_type": "code",
   "execution_count": null,
   "metadata": {},
   "outputs": [],
   "source": [
    "w = []\n",
    "b = []\n",
    "w.append(np.array(wa1))\n",
    "w.append(np.array(wa2))\n",
    "w.append(np.array(wa3))\n",
    "w.append(np.array(wa4))\n",
    "w.append(np.array(wa5))\n",
    "w.append(np.array(wa6))\n",
    "w.append(np.array(wa7))\n",
    "w.append(np.array(wa8))\n",
    "w.append(np.array(wa9))\n",
    "w.append(np.array(wa10))\n",
    "b.append(np.array(ba1))\n",
    "b.append(np.array(ba2))\n",
    "b.append(np.array(ba3))\n",
    "b.append(np.array(ba4))\n",
    "b.append(np.array(ba5))\n",
    "b.append(np.array(ba6))\n",
    "b.append(np.array(ba7))\n",
    "b.append(np.array(ba8))\n",
    "b.append(np.array(ba9))\n",
    "b.append(np.array(ba10))"
   ]
  },
  {
   "cell_type": "code",
   "execution_count": null,
   "metadata": {},
   "outputs": [],
   "source": [
    "print(\"hi\")\n",
    "w = np.array(w)\n",
    "wNew = w.mean(axis=0)\n",
    "b = np.array(b)\n",
    "bNew = b.mean()\n",
    "print(bNew)\n",
    "(trainImage, trainLabel), (testImage, testLabel) = mnist.load_data()\n",
    "trainLabel\n",
    "print(trainLabel)\n",
    "for i in range(2000, 2100):\n",
    "    list = []\n",
    "    for j in range(10):\n",
    "        pixel, line, ans = GetCurrentImage(i, j)\n",
    "        per = (int)(CheckAcc(line, ans, w[j], b[j])*100)/100\n",
    "        list.append(per)\n",
    "    sorted_indices = np.argsort(list)\n",
    "    print(f\"List of {trainLabel[i]} result is {list}\")"
   ]
  }
 ],
 "metadata": {
  "kernelspec": {
   "display_name": "Python 3",
   "language": "python",
   "name": "python3"
  },
  "language_info": {
   "codemirror_mode": {
    "name": "ipython",
    "version": 3
   },
   "file_extension": ".py",
   "mimetype": "text/x-python",
   "name": "python",
   "nbconvert_exporter": "python",
   "pygments_lexer": "ipython3",
   "version": "3.11.7"
  }
 },
 "nbformat": 4,
 "nbformat_minor": 2
}
